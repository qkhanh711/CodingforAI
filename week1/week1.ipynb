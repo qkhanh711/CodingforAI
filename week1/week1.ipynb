{
 "cells": [
  {
   "cell_type": "markdown",
   "metadata": {},
   "source": [
    "# Buoi1"
   ]
  },
  {
   "cell_type": "code",
   "execution_count": 4,
   "metadata": {},
   "outputs": [
    {
     "name": "stdout",
     "output_type": "stream",
     "text": [
      "O ban da 5 tuoi roi\n",
      "5\n"
     ]
    }
   ],
   "source": [
    "age = int(input(\"Ban bao nhieu tuoi\"))\n",
    "print(f\"O ban da {age} tuoi roi\")\n",
    "print(\"%d\" % age)"
   ]
  },
  {
   "cell_type": "code",
   "execution_count": 6,
   "metadata": {},
   "outputs": [
    {
     "name": "stdout",
     "output_type": "stream",
     "text": [
      "16444745.63565989\n",
      "33\n"
     ]
    }
   ],
   "source": [
    "money = 1e7\n",
    "profit = 5.1/100\n",
    "newmoney = money\n",
    "for i in range(10):\n",
    "    newmoney *= (1+profit)\n",
    "print(newmoney)\n",
    "\n",
    "reach = 5e7\n",
    "count = 0\n",
    "while (money<reach):\n",
    "    money *= (1+profit)\n",
    "    count+=1\n",
    "\n",
    "print(count)"
   ]
  },
  {
   "cell_type": "code",
   "execution_count": 10,
   "metadata": {},
   "outputs": [
    {
     "name": "stdout",
     "output_type": "stream",
     "text": [
      "0x10\n",
      "0b10000\n"
     ]
    }
   ],
   "source": [
    "n = int(input())\n",
    "print(hex(n))\n",
    "print(bin(n))"
   ]
  },
  {
   "cell_type": "code",
   "execution_count": 18,
   "metadata": {},
   "outputs": [
    {
     "name": "stdout",
     "output_type": "stream",
     "text": [
      "1.1220184543019633\n"
     ]
    }
   ],
   "source": [
    "import math\n",
    "a = 10\n",
    "b = 20\n",
    "print(a**(1/b))"
   ]
  },
  {
   "cell_type": "code",
   "execution_count": 80,
   "metadata": {},
   "outputs": [
    {
     "name": "stdout",
     "output_type": "stream",
     "text": [
      "4\n",
      "1\n"
     ]
    }
   ],
   "source": [
    "x  = 1002\n",
    "math.log10(x)\n",
    "print(str(math.log10(x)+1)[0])\n",
    "print(str(x)[0])"
   ]
  },
  {
   "cell_type": "code",
   "execution_count": 92,
   "metadata": {},
   "outputs": [
    {
     "name": "stdout",
     "output_type": "stream",
     "text": [
      "\n",
      "    chua gui duoc\n",
      "    da gui duoc\n",
      "    nguoi nhan chua doc\n",
      "    gui loi\n",
      "    \n"
     ]
    }
   ],
   "source": [
    "def status(x):\n",
    "    return (\"chua gui duoc\" if x == 0 else \"da gui duoc\" if x == 1 else \"nguoi nhan chua doc\" if x == 2 else \"gui loi\")\n",
    "    \n",
    "print(f\"\"\"\n",
    "    {status(0)}\n",
    "    {status(1)}\n",
    "    {status(2)}\n",
    "    {status(3)}\n",
    "    \"\"\")"
   ]
  },
  {
   "cell_type": "code",
   "execution_count": 100,
   "metadata": {},
   "outputs": [
    {
     "name": "stdout",
     "output_type": "stream",
     "text": [
      "True\n",
      "6.0\n",
      "3.0\n",
      "0.5\n",
      "55\n"
     ]
    }
   ],
   "source": [
    "def isFibo(n):\n",
    "    a = 0\n",
    "    b = 1\n",
    "    if n < 0:\n",
    "        return False\n",
    "    else:\n",
    "        while b < n:\n",
    "            a,b = b,a+b\n",
    "        return True if b == n else False\n",
    "\n",
    "print(isFibo(5))\n",
    "\n",
    "def area(a,b,c):\n",
    "    if a+b>c and a+c>b and b+c>a:\n",
    "        p = (a+b+c)/2\n",
    "        return math.sqrt(p*(p-a)*(p-b)*(p-c))\n",
    "    return -1\n",
    "\n",
    "print(area(3,4,5))\n",
    "\n",
    "def average(*numbers):\n",
    "    return sum(numbers)/len(numbers)\n",
    "\n",
    "print(average(2,3,4))\n",
    "\n",
    "def area2(x1,y1,x2,y2,x3,y3):\n",
    "    return abs(0.5*((x1-x3)*(y2-y3)-(x2-x3)*(y1-y3)))\n",
    "\n",
    "print(area2(0,0,1,0,0,1))\n",
    "\n",
    "def total(n):\n",
    "    return sum([i for i in range(1,n+1)])    \n",
    "\n",
    "print(total(10))\n"
   ]
  },
  {
   "cell_type": "markdown",
   "metadata": {},
   "source": [
    "# Buoi2"
   ]
  },
  {
   "cell_type": "code",
   "execution_count": 3,
   "metadata": {},
   "outputs": [],
   "source": [
    "def factoria(n):\n",
    "    result = 1\n",
    "    for i in range (n):\n",
    "        result *= i+1\n",
    "    return result\n",
    "\n",
    "def sumFac(n):\n",
    "    return sum([factoria(i) for i in range(1,n+1)])\n",
    "\n",
    "print(sumFac(3))\n",
    "\n"
   ]
  },
  {
   "cell_type": "code",
   "execution_count": 14,
   "metadata": {},
   "outputs": [
    {
     "name": "stdout",
     "output_type": "stream",
     "text": [
      "True\n",
      "[1, 2, 3, 4, 5, 6, 7, 8, 9, 10]\n",
      "18\n",
      "3\n",
      "[1, 2, 4, 6]\n"
     ]
    }
   ],
   "source": [
    "def isPrime(n):\n",
    "    if n < 2:\n",
    "        return False\n",
    "    for i in range(2,int(n**0.5)+1):\n",
    "        if n%i == 0:\n",
    "            return False\n",
    "    return True\n",
    "\n",
    "print(isPrime(5))\n",
    "\n",
    "def listRange(a,b):\n",
    "    return [i for i in range(a,b+1) ]\n",
    "\n",
    "print(listRange(1,10))\n",
    "\n",
    "def GCD_LCM(a, b, option = \"GCD\"):\n",
    "    if option == \"GCD\":\n",
    "        while b != 0:\n",
    "            a,b = b,a%b\n",
    "        return a\n",
    "    elif option == \"LCM\":\n",
    "        return a*b//GCD_LCM(a,b,\"GCD\")\n",
    "    else:\n",
    "        return -1\n",
    "    \n",
    "print(GCD_LCM(6,9,\"LCM\"))\n",
    "print(GCD_LCM(6,9,\"GCD\"))\n",
    "\n",
    "arr = []\n",
    "while True:\n",
    "    x = int(input())\n",
    "    if x <= 0:\n",
    "        break\n",
    "    arr.append(x)\n",
    "print(arr)\n",
    "\n",
    "def dynamicGCD_LCM(arr, option = \"GCD\"):\n",
    "    if option == \"GCD\":\n",
    "        result = arr[0]\n",
    "        for i in range(1,len(arr)):\n",
    "            result = GCD_LCM(result,arr[i],\"GCD\")\n",
    "        return result\n",
    "    elif option == \"LCM\":\n",
    "        result = arr[0]\n",
    "        for i in range(1,len(arr)):\n",
    "            result = GCD_LCM(result,arr[i],\"LCM\")\n",
    "        return result\n",
    "    else:\n",
    "        return -1\n",
    "    \n",
    "print(dynamicGCD_LCM(arr,\"LCM\"))\n",
    "print(dynamicGCD_LCM(arr,\"GCD\"))\n",
    "\n"
   ]
  },
  {
   "cell_type": "code",
   "execution_count": 19,
   "metadata": {},
   "outputs": [
    {
     "name": "stdout",
     "output_type": "stream",
     "text": [
      "5\n",
      "5\n",
      "6978\n"
     ]
    }
   ],
   "source": [
    "arr = []\n",
    "while True:\n",
    "    x = int(input())\n",
    "    if x == 0:\n",
    "        break\n",
    "    arr.append(x)\n",
    "# print(arr)\n",
    "print(len(arr))\n",
    "print(min(arr))\n",
    "print(max(arr))"
   ]
  }
 ],
 "metadata": {
  "kernelspec": {
   "display_name": "base",
   "language": "python",
   "name": "python3"
  },
  "language_info": {
   "codemirror_mode": {
    "name": "ipython",
    "version": 3
   },
   "file_extension": ".py",
   "mimetype": "text/x-python",
   "name": "python",
   "nbconvert_exporter": "python",
   "pygments_lexer": "ipython3",
   "version": "3.11.5"
  }
 },
 "nbformat": 4,
 "nbformat_minor": 2
}
