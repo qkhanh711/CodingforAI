{
 "cells": [
  {
   "cell_type": "code",
   "execution_count": 16,
   "metadata": {},
   "outputs": [
    {
     "name": "stdout",
     "output_type": "stream",
     "text": [
      "[ 1  2  3  4  5  6  7  8  9 10]\n",
      "[[4 9 9]\n",
      " [9 4 4]]\n",
      "[[1. 0. 0.]\n",
      " [0. 1. 0.]\n",
      " [0. 0. 1.]]\n",
      "[[[[ 1  1  2  0]\n",
      "   [ 1  1  2  0]\n",
      "   [ 2  1  1 -1]\n",
      "   [ 1  0  2  2]\n",
      "   [-1  2  0  2]]\n",
      "\n",
      "  [[-1  2  2  1]\n",
      "   [ 1 -1  1 -1]\n",
      "   [-1  2 -1  2]\n",
      "   [ 2  2  2  1]\n",
      "   [ 2  1  2 -1]]]\n",
      "\n",
      "\n",
      " [[[ 1  2 -1  1]\n",
      "   [ 1 -1 -1  2]\n",
      "   [-1  1  1  2]\n",
      "   [ 0 -1  1  2]\n",
      "   [ 0  1  0 -1]]\n",
      "\n",
      "  [[ 2 -1  2  2]\n",
      "   [ 1  0 -1  1]\n",
      "   [ 1 -1  2  2]\n",
      "   [-1  0 -1 -1]\n",
      "   [ 0 -1  2  2]]]\n",
      "\n",
      "\n",
      " [[[-1  1  2 -1]\n",
      "   [ 1  1  1  1]\n",
      "   [ 0  0  0 -1]\n",
      "   [ 1  2 -1  1]\n",
      "   [ 0  2 -1  0]]\n",
      "\n",
      "  [[ 2  1 -1  2]\n",
      "   [-1 -1  0  2]\n",
      "   [ 0  1  0  0]\n",
      "   [-1  0  0 -1]\n",
      "   [ 2  1  2  1]]]]\n"
     ]
    }
   ],
   "source": [
    "import numpy as np\n",
    "\n",
    "arr = np.arange(1, 11)\n",
    "print(arr)\n",
    "arr = np.random.randint(1, 11, (2, 3))\n",
    "print(arr)\n",
    "arr = np.identity(3, dtype=np.float16)\n",
    "# arr = np.eye(3, dtype=np.float16)\n",
    "print(arr)\n",
    "arr = np.random.randint(-1, 3, (3, 2, 5, 4))\n",
    "print(arr)"
   ]
  },
  {
   "cell_type": "code",
   "execution_count": 21,
   "metadata": {},
   "outputs": [
    {
     "name": "stdout",
     "output_type": "stream",
     "text": [
      "6\n",
      "[[1 2 3]\n",
      " [4 5 6]]\n",
      "[3 6 9]\n",
      "[[1 3]\n",
      " [7 9]]\n"
     ]
    }
   ],
   "source": [
    "arr = np.array([[1, 2, 3], \n",
    "                [4, 5, 6], \n",
    "                [7, 8, 9]])\n",
    "print(arr[1,2])\n",
    "print(arr[:2])\n",
    "print(arr[:,2])\n",
    "print(arr[::2, ::2])"
   ]
  },
  {
   "cell_type": "code",
   "execution_count": 24,
   "metadata": {},
   "outputs": [
    {
     "name": "stdout",
     "output_type": "stream",
     "text": [
      "[5, 7, 9]\n",
      "[1 4 9]\n",
      "32 32 32\n"
     ]
    }
   ],
   "source": [
    "a = np.array([1, 2, 3]) \n",
    "b = np.array([4, 5, 6])\n",
    "print([a[i] + b[i] for i in range(len(a))])\n",
    "c = a**2\n",
    "print(c)\n",
    "print(np.dot(a, b), a@b, np.multiply(a, b).sum())"
   ]
  },
  {
   "cell_type": "code",
   "execution_count": 26,
   "metadata": {},
   "outputs": [
    {
     "name": "stdout",
     "output_type": "stream",
     "text": [
      "[[1]\n",
      " [2]\n",
      " [3]\n",
      " [4]]\n",
      "[[1 2 5]\n",
      " [3 4 6]]\n",
      "[[1 2]\n",
      " [3 4]\n",
      " [5 6]]\n"
     ]
    }
   ],
   "source": [
    "x = np.array([[1, 2], [3, 4]])\n",
    "print(x.reshape(4, 1))\n",
    "y = np.array([[5, 6]])\n",
    "print(np.concatenate((x, y.T), axis=1))\n",
    "print(np.concatenate((x, y), axis=0))"
   ]
  },
  {
   "cell_type": "code",
   "execution_count": 33,
   "metadata": {},
   "outputs": [
    {
     "name": "stdout",
     "output_type": "stream",
     "text": [
      "96\n",
      "[-5 -2 -4  0 -5 -1 -2] [ 7  7  3 10  7 10 10]\n",
      "[4.71212071 4.76380914 5.6170295  3.54562104 3.05727637]\n",
      "[25.44 10.16  5.6  12.96 25.6  17.84 25.84]\n",
      "[12  9  7 10 12 11 12]\n"
     ]
    }
   ],
   "source": [
    "arr = np.random.randint(-5, 11, (5, 7))\n",
    "# print(arr)\n",
    "print(arr.sum())\n",
    "print(arr.min(axis=0), arr.max(axis=0))\n",
    "print(arr.std(axis=1))\n",
    "print(arr.var(axis=0))\n",
    "print(arr.max(axis=0) - arr.min(axis=0))"
   ]
  },
  {
   "cell_type": "code",
   "execution_count": 37,
   "metadata": {},
   "outputs": [
    {
     "name": "stdout",
     "output_type": "stream",
     "text": [
      "[6 7 8]\n",
      "[11]\n"
     ]
    }
   ],
   "source": [
    "x = np.array([1, 2, 3])\n",
    "print(x+5)\n",
    "Y = np.random.rand(3, 3) * 2\n",
    "print(y@np.random.randint((3, 5)))"
   ]
  },
  {
   "cell_type": "code",
   "execution_count": 40,
   "metadata": {},
   "outputs": [
    {
     "name": "stdout",
     "output_type": "stream",
     "text": [
      "[ 51  52  53  54  55  56  57  58  59  60  61  62  63  64  65  66  67  68\n",
      "  69  70  71  72  73  74  75  76  77  78  79  80  81  82  83  84  85  86\n",
      "  87  88  89  90  91  92  93  94  95  96  97  98  99 100]\n",
      "[ 1  2  3  4  5  6  7  8  9 10 11 12 13 14 15 16 17 18 19 20 21 22 23 24\n",
      " 25]\n",
      "[ 76  77  78  79  80  81  82  83  84  85  86  87  88  89  90  91  92  93\n",
      "  94  95  96  97  98  99 100]\n",
      "[  2   4   8  10  14  16  20  22  26  28  32  34  38  40  44  46  50  52\n",
      "  56  58  62  64  68  70  74  76  80  82  86  88  92  94  98 100]\n",
      "[ 5 15 25 35 45 55 65 75 85 95]\n",
      "[ 3  9 15 21 27 33 39 45 51 57 63 69 75 81 87 93 99]\n",
      "[ 2  4  6  8 12 14 16 18 22 24 26 28 32 34 36 38 42 44 46 48 52 54 56 58\n",
      " 62 64 66 68 72 74 76 78 82 84 86 88 92 94 96 98]\n"
     ]
    }
   ],
   "source": [
    "arr = np.arange(1, 101)\n",
    "mean = arr.mean()\n",
    "print(arr[arr > mean])\n",
    "q1 = np.percentile(arr, 25)\n",
    "print(arr[arr < q1])\n",
    "q3 = np.percentile(arr, 75)\n",
    "print(arr[arr > q3])\n",
    "print(arr[(arr % 2 == 0) & (arr % 3 != 0)])\n",
    "print(arr[(arr % 5 == 0) & (arr % 2 != 0)])\n",
    "print(arr[(arr % 2 != 0) & (arr % 3 == 0)])\n",
    "print(arr[(arr % 2 == 0) & (arr % 5 != 0)])"
   ]
  },
  {
   "cell_type": "code",
   "execution_count": 95,
   "metadata": {},
   "outputs": [
    {
     "name": "stdout",
     "output_type": "stream",
     "text": [
      "[0 0 0 0 0 1 1 1 1 1 1]\n",
      "[2]\n",
      "[ 2.5  0.  -1.5]\n",
      "(1, 3) (1, 3)\n",
      "[[160 170 155  60  75  52]]\n",
      "[[160 170 155]\n",
      " [ 60  75  52]]\n",
      "[[160 170 155]\n",
      " [ 60  75  52]]\n",
      "[[160 170 155  60  75  52]]\n",
      "(3,) (3,)\n",
      "axis 1 is out of bounds for array of dimension 1\n",
      "[[3 7 4]\n",
      " [3 4 6]\n",
      " [2 4 8]]\n",
      "[2 3 4 6 7 8]\n",
      "{2: 1, 3: 2, 4: 3, 6: 1, 7: 1, 8: 1}\n"
     ]
    }
   ],
   "source": [
    "# 7) Sử dụng np.unique() để lọc ra các giá trị duy nhất từ một mảng đã cho. Đưa ra ví dụ minh họa. Đếm số lần xuất hiện các giá trị duy nhất đó.\n",
    "\n",
    "arr = np.linspace(0, 10, 11)\n",
    "condition = arr < 5\n",
    "print(np.where(condition, 0, 1))\n",
    "print(np.random.choice([1, 2, 3, 4, 5], 1))\n",
    "arr.shape\n",
    "A = np.random.randint(1, 10, (3, 3))\n",
    "b = np.random.randint(1, 10, 3)\n",
    "print(np.linalg.solve(A, b))\n",
    "\n",
    "# np.concatenate(): Chi hoat dong voi mang 2 chieu \n",
    "# np.vstack() và np.hstack() co  the hoat dong voi mang 1 chieu\n",
    "\n",
    "heights = np.array([[160, 170, 155]])\n",
    "weights = np.array([[60, 75, 52]])   # Shape: (1, 3)\n",
    "print(heights.shape, weights.shape)\n",
    "print(np.concatenate((heights, weights), axis=1))\n",
    "print(np.vstack((heights, weights)))\n",
    "print(np.concatenate((heights, weights), axis=0))\n",
    "print(np.hstack((heights, weights)))\n",
    "\n",
    "heights = np.array([160, 170, 155])\n",
    "weights = np.array([60, 75, 52])   # Shape: (3,)\n",
    "print(heights.shape, weights.shape)\n",
    "try:\n",
    "    print(np.concatenate((heights, weights), axis=1))\n",
    "except Exception as e:\n",
    "    print(e)\n",
    "\n",
    "arr = np.random.randint(1, 10, (3, 3))\n",
    "print(arr)\n",
    "keys = np.unique(arr)\n",
    "print(keys)\n",
    "freq = {i: (arr == i).sum() for i in keys}\n",
    "print(freq)"
   ]
  },
  {
   "cell_type": "code",
   "execution_count": 106,
   "metadata": {},
   "outputs": [
    {
     "name": "stdout",
     "output_type": "stream",
     "text": [
      "[[26 38 44]\n",
      " [30 63 54]\n",
      " [ 3 10  5]]\n",
      "[[4086 2328 3579]\n",
      " [2328 1460 1942]\n",
      " [3579 1942 3206]]\n",
      "[[2181 3523  560]\n",
      " [3523 6346 1135]\n",
      " [ 560 1135  225]]\n",
      "3\n",
      "16.999999999999993\n",
      "[[-0.05882353  0.17647059 -0.58823529]\n",
      " [-0.52941176  0.58823529 -1.29411765]\n",
      " [ 1.05882353 -1.17647059  3.58823529]]\n",
      "18\n",
      "[[10  1  2  2  3  4]\n",
      " [ 9  7  4  0  4  2]\n",
      " [ 0  2  1  3  2  1]]\n",
      "[[10  1  2]\n",
      " [ 9  7  4]\n",
      " [ 0  2  1]\n",
      " [ 2  3  4]\n",
      " [ 0  4  2]\n",
      " [ 3  2  1]]\n",
      "[10  1  2  9  7  4  0  2  1]\n",
      "[[7.31034316e-01 2.45611490e-03 1.14195199e-01]\n",
      " [2.68932495e-01 9.90867473e-01 8.43794734e-01]\n",
      " [3.31889066e-05 6.67641251e-03 4.20100661e-02]]\n",
      "[0.84768563 2.1035947  0.04871967]\n",
      "[0.28256188 0.70119823 0.01623989]\n",
      "[2.45611490e-03 2.68932495e-01 3.31889066e-05]\n",
      "[0.73103432 0.99086747 0.04201007]\n"
     ]
    }
   ],
   "source": [
    "A = np.array([[10,1,2],\n",
    "              [9,7,4],\n",
    "              [0,2,1]])\n",
    "\n",
    "B = np.array([[2,3,4],\n",
    "              [0,4,2],\n",
    "              [3,2,1]])\n",
    "\n",
    "print(A@B)\n",
    "print(B@A.T@A@B.T)\n",
    "print(A@B.T@B@A.T)\n",
    "\n",
    "print(np.linalg.matrix_rank(A))\n",
    "print(np.linalg.det(A))\n",
    "print(np.linalg.inv(A))\n",
    "print(np.trace(A))\n",
    "\n",
    "print(np.concatenate((A, B), axis=1))\n",
    "print(np.concatenate((A, B), axis=0))\n",
    "print(A.flatten())\n",
    "\n",
    "softmax = lambda x: np.exp(x) / np.sum(np.exp(x), axis=0)\n",
    "softmaxed = softmax(A)\n",
    "print(softmax(A))\n",
    "print(softmaxed.sum(axis = 1))\n",
    "print(softmaxed.sum(axis = 1)/A.shape[1])\n",
    "print(softmaxed.min(axis = 1))\n",
    "print(softmaxed.max(axis = 1))\n"
   ]
  }
 ],
 "metadata": {
  "kernelspec": {
   "display_name": "base",
   "language": "python",
   "name": "python3"
  },
  "language_info": {
   "codemirror_mode": {
    "name": "ipython",
    "version": 3
   },
   "file_extension": ".py",
   "mimetype": "text/x-python",
   "name": "python",
   "nbconvert_exporter": "python",
   "pygments_lexer": "ipython3",
   "version": "3.11.5"
  }
 },
 "nbformat": 4,
 "nbformat_minor": 2
}
