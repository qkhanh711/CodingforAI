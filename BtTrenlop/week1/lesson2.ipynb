{
 "cells": [
  {
   "cell_type": "code",
   "execution_count": 1,
   "metadata": {},
   "outputs": [
    {
     "name": "stdout",
     "output_type": "stream",
     "text": [
      "True\n",
      "[1, 2, 3, 4, 5, 6, 7, 8, 9, 10]\n",
      "18\n",
      "3\n",
      "[5, 6, 7, 9]\n",
      "630\n",
      "1\n",
      "\n",
      "  Day co do dai 4\n",
      "  Gia tri lon nhat 8\n",
      "  Gia tri nho nhat 4\n",
      "\n"
     ]
    }
   ],
   "source": [
    "#Bai1\n",
    "def isPrime(n):\n",
    "    if n < 2:\n",
    "        return False\n",
    "    for i in range(2,int(n**0.5)+1):\n",
    "        if n%i == 0:\n",
    "            return False\n",
    "    return True\n",
    "\n",
    "print(isPrime(5))\n",
    "\n",
    "#Bai2\n",
    "def listRange(a,b):\n",
    "    return [i for i in range(a,b+1) ]\n",
    "\n",
    "print(listRange(1,10))\n",
    "\n",
    "#Bai3\n",
    "def GCD_LCM(a, b, option = \"GCD\"):\n",
    "    if option == \"GCD\":\n",
    "        while b != 0:\n",
    "            a,b = b,a%b\n",
    "        return a\n",
    "    elif option == \"LCM\":\n",
    "        return a*b//GCD_LCM(a,b,\"GCD\")\n",
    "    else:\n",
    "        return -1\n",
    "    \n",
    "print(GCD_LCM(6,9,\"LCM\"))\n",
    "print(GCD_LCM(6,9,\"GCD\"))\n",
    "\n",
    "#Bai4\n",
    "arr = []\n",
    "while True:\n",
    "    x = int(input())\n",
    "    if x <= 0:\n",
    "        break\n",
    "    arr.append(x)\n",
    "print(arr)\n",
    "\n",
    "def dynamicGCD_LCM(arr, option = \"GCD\"):\n",
    "    if option == \"GCD\":\n",
    "        result = arr[0]\n",
    "        for i in range(1,len(arr)):\n",
    "            result = GCD_LCM(result,arr[i],\"GCD\")\n",
    "        return result\n",
    "    elif option == \"LCM\":\n",
    "        result = arr[0]\n",
    "        for i in range(1,len(arr)):\n",
    "            result = GCD_LCM(result,arr[i],\"LCM\")\n",
    "        return result\n",
    "    else:\n",
    "        return -1\n",
    "    \n",
    "print(dynamicGCD_LCM(arr,\"LCM\"))\n",
    "print(dynamicGCD_LCM(arr,\"GCD\"))\n",
    "\n",
    "# Bai5\n",
    "arr = []\n",
    "while True:\n",
    "    x = int(input())\n",
    "    if x == 0:\n",
    "        break\n",
    "    arr.append(x)\n",
    "\n",
    "print(f\"\"\"\n",
    "  Day co do dai {len(arr)}\n",
    "  Gia tri lon nhat {max(arr)}\n",
    "  Gia tri nho nhat {min(arr)}\n",
    "\"\"\")"
   ]
  },
  {
   "cell_type": "code",
   "execution_count": 16,
   "metadata": {},
   "outputs": [
    {
     "name": "stdout",
     "output_type": "stream",
     "text": [
      "ihuygfdfgfhj\n",
      "{'d': 1, 'x': 1, 'f': 1, 'g': 1, 'h': 1, 'j': 2, 'k': 2, 'l': 2}\n",
      "j\n"
     ]
    }
   ],
   "source": [
    "# Bai5\n",
    "\n",
    "[\"dvfbg\", \"fegrth\", \"ihuygfdfgfhj\"]\n",
    "print(max([\"dvfbg\", \"fegrth\", \"ihuygfdfgfhj\"], key = len))\n",
    "\n",
    "# Bai6\n",
    "\n",
    "\n",
    "\n",
    "def frequency(s):\n",
    "    freq = {}\n",
    "    for i in s:\n",
    "        if i in freq:\n",
    "            freq[i] += 1\n",
    "        else:\n",
    "            freq[i] = 1\n",
    "    return freq\n",
    "print(frequency(\"dxfghjkjkll\"))\n",
    "print(max(frequency(\"dxfghjkjkll\"), key = frequency(\"dxfghjkjkll\").get))\n",
    "# Bai7\n",
    "# Bai8\n",
    "# Bai9"
   ]
  },
  {
   "cell_type": "code",
   "execution_count": 17,
   "metadata": {},
   "outputs": [
    {
     "name": "stdout",
     "output_type": "stream",
     "text": [
      "100 8888488\n",
      "101 8888520\n"
     ]
    }
   ],
   "source": [
    "n = 100\n",
    "print(n, id(n))\n",
    "n = n+1\n",
    "print(n, id(n))"
   ]
  },
  {
   "cell_type": "code",
   "execution_count": 18,
   "metadata": {},
   "outputs": [
    {
     "name": "stdout",
     "output_type": "stream",
     "text": [
      "[10, 20, 35, 40]\n"
     ]
    }
   ],
   "source": [
    "a = [10,20,30,40]\n",
    "b = a\n",
    "\n",
    "b[2] = 35\n",
    "\n",
    "print(a)"
   ]
  }
 ],
 "metadata": {
  "kernelspec": {
   "display_name": "base",
   "language": "python",
   "name": "python3"
  },
  "language_info": {
   "codemirror_mode": {
    "name": "ipython",
    "version": 3
   },
   "file_extension": ".py",
   "mimetype": "text/x-python",
   "name": "python",
   "nbconvert_exporter": "python",
   "pygments_lexer": "ipython3",
   "version": "3.11.5"
  }
 },
 "nbformat": 4,
 "nbformat_minor": 2
}
